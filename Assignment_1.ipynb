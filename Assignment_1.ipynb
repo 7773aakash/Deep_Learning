{
 "cells": [
  {
   "cell_type": "markdown",
   "id": "07e24c1b",
   "metadata": {},
   "source": [
    "## Deep Learning Assgnment 1"
   ]
  },
  {
   "cell_type": "code",
   "execution_count": 25,
   "id": "834212d6",
   "metadata": {},
   "outputs": [],
   "source": [
    "import numpy as np\n",
    "import matplotlib.pyplot as plt\n",
    "\n"
   ]
  },
  {
   "cell_type": "code",
   "execution_count": 26,
   "id": "9b11681d",
   "metadata": {},
   "outputs": [],
   "source": [
    "# Function to approximate\n",
    "\n",
    "def f(x):\n",
    "    return np.exp(-np.sin(x**2)/2) + x"
   ]
  },
  {
   "cell_type": "markdown",
   "id": "de45b05f",
   "metadata": {},
   "source": [
    "Generate Dataset"
   ]
  },
  {
   "cell_type": "code",
   "execution_count": 27,
   "id": "48ffa307",
   "metadata": {},
   "outputs": [
    {
     "name": "stdout",
     "output_type": "stream",
     "text": [
      "Train shape: (20, 1) (20, 1)\n",
      "Test shape: (5, 1) (5, 1)\n"
     ]
    }
   ],
   "source": [
    "# Generate data\n",
    "np.random.seed(42)  # for reproducibility\n",
    "X = np.linspace(-10, 10, 25).reshape(-1, 1)\n",
    "Y = f(X)\n",
    "\n",
    "# Split into train (20) and test (5)\n",
    "indices = np.arange(25)\n",
    "np.random.shuffle(indices)\n",
    "train_idx, test_idx = indices[:20], indices[20:]\n",
    "X_train, Y_train = X[train_idx], Y[train_idx]\n",
    "X_test, Y_test = X[test_idx], Y[test_idx]\n",
    "\n",
    "print(\"Train shape:\", X_train.shape, Y_train.shape)\n",
    "print(\"Test shape:\", X_test.shape, Y_test.shape)\n"
   ]
  },
  {
   "cell_type": "markdown",
   "id": "95f6b156",
   "metadata": {},
   "source": [
    "Activation Function"
   ]
  },
  {
   "cell_type": "code",
   "execution_count": 28,
   "id": "0a510e58",
   "metadata": {},
   "outputs": [],
   "source": [
    "def tanh(z):\n",
    "    return np.tanh(z)\n",
    "\n",
    "def tanh_der(z):\n",
    "    return 1 - np.tanh(z)**2\n",
    "    "
   ]
  },
  {
   "cell_type": "markdown",
   "id": "bcc960a5",
   "metadata": {},
   "source": [
    "Initialize Parameters"
   ]
  },
  {
   "cell_type": "code",
   "execution_count": 29,
   "id": "645ef398",
   "metadata": {},
   "outputs": [
    {
     "name": "stdout",
     "output_type": "stream",
     "text": [
      "Initial parameters:\n",
      "0.24196227156603412 0.0 -1.913280244657798 0.0 -1.7249178325130328 0.0\n"
     ]
    }
   ],
   "source": [
    "# Initialize weights and biases\n",
    "w1, b1 = np.random.randn(), 0.0\n",
    "w2, b2 = np.random.randn(), 0.0\n",
    "w3, b3 = np.random.randn(), 0.0\n",
    "\n",
    "print(\"Initial parameters:\")\n",
    "print(w1, b1, w2, b2, w3, b3)\n"
   ]
  },
  {
   "cell_type": "markdown",
   "id": "6995bc1f",
   "metadata": {},
   "source": [
    "Forward Propagation"
   ]
  },
  {
   "cell_type": "code",
   "execution_count": 30,
   "id": "e3263d36",
   "metadata": {},
   "outputs": [],
   "source": [
    "def forward_pass(X):\n",
    "    z1 = w1*X + b1\n",
    "    a1 = tanh(z1)\n",
    "\n",
    "    z2 = w2*a1 + b2\n",
    "    a2 = tanh(z2)\n",
    "\n",
    "    z3 = w3*a2 + b3\n",
    "    y_hat = tanh(z3)\n",
    "    return y_hat, (z1, a1, z2, a2, z3)\n"
   ]
  },
  {
   "cell_type": "markdown",
   "id": "dd5f0ee1",
   "metadata": {},
   "source": [
    "Loss Function"
   ]
  },
  {
   "cell_type": "code",
   "execution_count": 31,
   "id": "f6757354",
   "metadata": {},
   "outputs": [],
   "source": [
    "def compute_loss(y_hat, Y):\n",
    "    return np.mean((y_hat - Y)**2)\n"
   ]
  },
  {
   "cell_type": "markdown",
   "id": "fe26d781",
   "metadata": {},
   "source": [
    "Backward Propagation"
   ]
  },
  {
   "cell_type": "code",
   "execution_count": 32,
   "id": "61a0dc30",
   "metadata": {},
   "outputs": [],
   "source": [
    "def backward_pass(X, Y, cache, y_hat):\n",
    "    z1, a1, z2, a2, z3 = cache\n",
    "    \n",
    "    m = len(X)  # number of samples\n",
    "    \n",
    "    # derivative wrt z3\n",
    "    dz3 = 2*(y_hat - Y) * tanh_der(z3)  \n",
    "    dw3 = np.mean(dz3 * a2)\n",
    "    db3 = np.mean(dz3)\n",
    "    \n",
    "    # derivative wrt z2\n",
    "    dz2 = dz3 * w3 * tanh_der(z2)\n",
    "    dw2 = np.mean(dz2 * a1)\n",
    "    db2 = np.mean(dz2)\n",
    "    \n",
    "    # derivative wrt z1\n",
    "    dz1 = dz2 * w2 * tanh_der(z1)\n",
    "    dw1 = np.mean(dz1 * X)\n",
    "    db1 = np.mean(dz1)\n",
    "    \n",
    "    grads = {\"dw1\": dw1, \"db1\": db1,\n",
    "             \"dw2\": dw2, \"db2\": db2,\n",
    "             \"dw3\": dw3, \"db3\": db3}\n",
    "    return grads\n"
   ]
  },
  {
   "cell_type": "markdown",
   "id": "6597c376",
   "metadata": {},
   "source": [
    "Update Parameters"
   ]
  },
  {
   "cell_type": "code",
   "execution_count": 33,
   "id": "c946fa91",
   "metadata": {},
   "outputs": [],
   "source": [
    "def update_parameters(grads, eta=0.001):\n",
    "    global w1, b1, w2, b2, w3, b3  # update global variables\n",
    "    \n",
    "    w1 -= eta * grads[\"dw1\"]\n",
    "    b1 -= eta * grads[\"db1\"]\n",
    "    w2 -= eta * grads[\"dw2\"]\n",
    "    b2 -= eta * grads[\"db2\"]\n",
    "    w3 -= eta * grads[\"dw3\"]\n",
    "    b3 -= eta * grads[\"db3\"]\n"
   ]
  },
  {
   "cell_type": "markdown",
   "id": "e53d9c0b",
   "metadata": {},
   "source": [
    "Training Loop"
   ]
  },
  {
   "cell_type": "code",
   "execution_count": null,
   "id": "b173512d",
   "metadata": {},
   "outputs": [
    {
     "name": "stdout",
     "output_type": "stream",
     "text": [
      "Epoch 0, Loss = 33.3233\n",
      "Epoch 1000, Loss = 32.6877\n",
      "Epoch 2000, Loss = 32.6042\n",
      "Epoch 3000, Loss = 32.5706\n",
      "Epoch 4000, Loss = 32.5525\n",
      "Epoch 5000, Loss = 32.5412\n",
      "Epoch 6000, Loss = 32.5334\n",
      "Epoch 7000, Loss = 32.5278\n",
      "Epoch 8000, Loss = 32.5236\n",
      "Epoch 9000, Loss = 32.5202\n"
     ]
    }
   ],
   "source": [
    "epochs = 10000\n",
    "for epoch in range(epochs):\n",
    "\n",
    "    # Forward pass to get predictions\n",
    "    y_hat, cache = forward_pass(X_train)\n",
    "\n",
    "    # Compute MSE loss\n",
    "    loss = compute_loss(y_hat, Y_train)\n",
    "\n",
    "    # Backward propagation to get gradients\n",
    "    grads = backward_pass(X_train, Y_train, cache, y_hat)\n",
    "    update_parameters(grads, eta=0.001)\n",
    "    \n",
    "    if epoch % 1000 == 0:\n",
    "        print(f\"Epoch {epoch}, Loss = {loss:.4f}\")\n"
   ]
  },
  {
   "cell_type": "markdown",
   "id": "1dd28256",
   "metadata": {},
   "source": [
    "Predictions"
   ]
  },
  {
   "cell_type": "code",
   "execution_count": null,
   "id": "e7f8ca89",
   "metadata": {},
   "outputs": [],
   "source": [
    "def predict(X):\n",
    "\n",
    "    # Compute input to first layer\n",
    "    z1 = w1*X + b1\n",
    "\n",
    "    # Apply activation (tanh) for first layer\n",
    "    a1 = tanh(z1)\n",
    "\n",
    "    z2 = w2*a1 + b2\n",
    "    a2 = tanh(z2)\n",
    "    \n",
    "    z3 = w3*a2 + b3\n",
    "    return tanh(z3)\n",
    "\n",
    "Y_pred_train = predict(X_train)\n",
    "Y_pred_test = predict(X_test) \n"
   ]
  },
  {
   "cell_type": "markdown",
   "id": "bef4525d",
   "metadata": {},
   "source": [
    "Training and test Error"
   ]
  },
  {
   "cell_type": "code",
   "execution_count": null,
   "id": "d3143b35",
   "metadata": {},
   "outputs": [
    {
     "name": "stdout",
     "output_type": "stream",
     "text": [
      "Final Training Error: 32.51752350598014\n",
      "Final Test Error: 8.944810171118231\n"
     ]
    }
   ],
   "source": [
    "# Compute MSE on training data\n",
    "train_error = np.mean((Y_pred_train - Y_train)**2)\n",
    "\n",
    "# Compute MSE on test data\n",
    "test_error = np.mean((Y_pred_test - Y_test)**2)\n",
    "\n",
    "print(\"Final Training Error:\", train_error)\n",
    "print(\"Final Test Error:\", test_error)\n"
   ]
  },
  {
   "cell_type": "markdown",
   "id": "5bb72690",
   "metadata": {},
   "source": [
    "Ploting"
   ]
  },
  {
   "cell_type": "code",
   "execution_count": null,
   "id": "0373613c",
   "metadata": {},
   "outputs": [
    {
     "data": {
      "image/png": "[encoded data removed]",
      "text/plain": [
       "<Figure size 640x480 with 1 Axes>"
      ]
     },
     "metadata": {},
     "output_type": "display_data"
    }
   ],
   "source": [
    "plt.scatter(X_train, Y_train, color=\"blue\", label=\"Train data\")\n",
    "plt.scatter(X_test, Y_test, color=\"red\", label=\"Test data\")\n",
    "\n",
    "x_line = np.linspace(-10, 10, 200).reshape(-1, 1)\n",
    "plt.plot(x_line, f(x_line), label=\"True function f(x)\", color=\"green\")\n",
    "plt.plot(x_line, predict(x_line), label=\"NN Prediction\", color=\"orange\")\n",
    "plt.legend()\n",
    "plt.show()\n"
   ]
  }
 ],
 "metadata": {
  "kernelspec": {
   "display_name": "Python 3",
   "language": "python",
   "name": "python3"
  },
  "language_info": {
   "codemirror_mode": {
    "name": "ipython",
    "version": 3
   },
   "file_extension": ".py",
   "mimetype": "text/x-python",
   "name": "python",
   "nbconvert_exporter": "python",
   "pygments_lexer": "ipython3",
   "version": "3.12.0"
  }
 },
 "nbformat": 4,
 "nbformat_minor": 5
}
